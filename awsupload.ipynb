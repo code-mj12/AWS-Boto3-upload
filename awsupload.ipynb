{
 "cells": [
  {
   "cell_type": "code",
   "execution_count": 4,
   "id": "2cab6403",
   "metadata": {},
   "outputs": [],
   "source": [
    "access_key = ''\n",
    "secret_access_key = ''\n"
   ]
  },
  {
   "cell_type": "code",
   "execution_count": 9,
   "id": "5a05fda0",
   "metadata": {},
   "outputs": [
    {
     "name": "stdout",
     "output_type": "stream",
     "text": [
      "JJJ\n"
     ]
    }
   ],
   "source": [
    "import boto3\n",
    "\n",
    "import os\n",
    "\n",
    "client = boto3.client('s3' ,\n",
    "                      aws_access_key_id = access_key,\n",
    "                      aws_secret_access_key = secret_access_key)\n",
    "\n",
    "\n",
    "for file in os.listdir():\n",
    "    if '.png' in file:\n",
    "        upload_file_bucket = 'mj12'\n",
    "        upload_file_key = str(file)\n",
    "        client.upload_file(file , upload_file_bucket , upload_file_key)"
   ]
  },
  {
   "cell_type": "code",
   "execution_count": null,
   "id": "63ee71a7",
   "metadata": {},
   "outputs": [],
   "source": []
  }
 ],
 "metadata": {
  "kernelspec": {
   "display_name": "Python 3",
   "language": "python",
   "name": "python3"
  },
  "language_info": {
   "codemirror_mode": {
    "name": "ipython",
    "version": 3
   },
   "file_extension": ".py",
   "mimetype": "text/x-python",
   "name": "python",
   "nbconvert_exporter": "python",
   "pygments_lexer": "ipython3",
   "version": "3.8.5"
  }
 },
 "nbformat": 4,
 "nbformat_minor": 5
}
